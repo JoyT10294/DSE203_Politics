{
 "cells": [
  {
   "cell_type": "code",
   "execution_count": 1,
   "id": "d1cd48e2",
   "metadata": {},
   "outputs": [
    {
     "name": "stderr",
     "output_type": "stream",
     "text": [
      "[nltk_data] Downloading package punkt to\n",
      "[nltk_data]     /Users/joythompson/nltk_data...\n",
      "[nltk_data]   Package punkt is already up-to-date!\n",
      "[nltk_data] Downloading package averaged_perceptron_tagger to\n",
      "[nltk_data]     /Users/joythompson/nltk_data...\n",
      "[nltk_data]   Package averaged_perceptron_tagger is already up-to-\n",
      "[nltk_data]       date!\n"
     ]
    }
   ],
   "source": [
    "import pandas as pd\n",
    "import numpy as np\n",
    "import re\n",
    "import warnings\n",
    "warnings.filterwarnings(\"ignore\")\n",
    "import math\n",
    "import os\n",
    "import datetime\n",
    "from pandas import DataFrame\n",
    "import itertools\n",
    "from bs4 import BeautifulSoup\n",
    "import urllib.request\n",
    "import requests\n",
    "import random\n",
    "import torch\n",
    "import xmltodict\n",
    "import xml.etree.ElementTree as ET\n",
    "import xml\n",
    "from xml.etree.ElementTree import parse\n",
    "from xml.parsers import expat\n",
    "from xml.dom.minidom import parse, parseString\n",
    "import psycopg2\n",
    "import PyPDF2\n",
    "import pikepdf\n",
    "from bs4 import BeautifulSoup\n",
    "import nltk\n",
    "nltk.download('punkt')\n",
    "nltk.download('averaged_perceptron_tagger')\n",
    "import re\n",
    "import spacy"
   ]
  },
  {
   "cell_type": "code",
   "execution_count": 2,
   "id": "0f475bfc",
   "metadata": {},
   "outputs": [],
   "source": [
    "def createfiledirectory(directory):\n",
    "    try:\n",
    "        if not os.path.exists(directory):\n",
    "            os.makedirs(directory)\n",
    "    except OSError:\n",
    "        print ('Error: Creating directory. ' +  directory)\n",
    "    return directory"
   ]
  },
  {
   "cell_type": "markdown",
   "id": "5aa81a4e",
   "metadata": {},
   "source": [
    "# **Define Functions to Load Bill XML Data Locally**"
   ]
  },
  {
   "cell_type": "code",
   "execution_count": 3,
   "id": "c81a43e0",
   "metadata": {},
   "outputs": [],
   "source": [
    "def creaturllist(searchpdf, tplist, ext, addcheck):\n",
    "    typenapd = pd.DataFrame(columns=['Name', 'Link', 'OfficialTitle', 'BillStage', 'Date',  'LegisType', 'CommitteeName', \n",
    "                                    'SponsorLastName', 'SponsorFirstName', 'SponsorState',  'CoSponsorLastName', 'CoSponsorFirstName', 'CoSponsorState'])\n",
    "    for page in searchpdf.pages:\n",
    "        for annots in page.get(\"/Annots\"):\n",
    "            url=str(annots.get(\"/A\").get(\"/URI\"))\n",
    "            if url not in typenapd['Link'].values and url.find(tplist)!=-1:\n",
    "                typena=url.split(tplist)[1].split(ext)[0]\n",
    "                if isinstance(addcheck, str):\n",
    "                    typenapd=typenapd.append({'Name':typena, 'Link':url}, ignore_index=True)\n",
    "                else:\n",
    "                    if typena not in addcheck['Name'].values:\n",
    "                        typenapd=typenapd.append({'Name':typena, 'Link':url}, ignore_index=True)\n",
    "    return typenapd"
   ]
  },
  {
   "cell_type": "code",
   "execution_count": 4,
   "id": "16370b56",
   "metadata": {},
   "outputs": [],
   "source": [
    "def importfiles(filepd, filedir, typestr):   \n",
    "    for ind in filepd.index:\n",
    "        name=filepd.loc[ind, 'Name']\n",
    "        link=filepd.loc[ind, 'Link']\n",
    "        response = requests.get(link)\n",
    "        file=filedir+ '/'+name+typestr\n",
    "        with open(filedir + '/'+name+typestr, 'wb') as file:\n",
    "            file.write(response.content)\n",
    "            file.close()\n",
    "    return "
   ]
  },
  {
   "cell_type": "markdown",
   "id": "aa5b8348",
   "metadata": {},
   "source": [
    "# **Call Functions to Load Bill XML Data Locally** "
   ]
  },
  {
   "cell_type": "code",
   "execution_count": 6,
   "id": "a2943cd3",
   "metadata": {},
   "outputs": [],
   "source": [
    "username='joythompson'\n",
    "rawdf=\"/Users/\"+username+\"/Desktop/DSE_203_JoyT/DSE_203_Final_Project_JoyT/Raw_Data_Files/\"\n",
    "searchpdf = pikepdf.Pdf.open(rawdf+ \"search.pdf\")   \n",
    "\n",
    "directorymid=createfiledirectory(rawdf+ 'Bill_Data_from_HTML_XML')\n",
    "directoryxml=createfiledirectory( directorymid+ '/DSE_project_xml')\n",
    "directorytext=createfiledirectory(directorymid+'/DSE_project_text')"
   ]
  },
  {
   "cell_type": "code",
   "execution_count": 8,
   "id": "65401635",
   "metadata": {},
   "outputs": [],
   "source": [
    "xmlnames=creaturllist(searchpdf, '/xml/', '.xml', 'None')\n",
    "textnames=creaturllist(searchpdf, '/html/', '.htm', xmlnames)\n",
    "\n",
    "importfiles(xmlnames, directoryxml, '.xml')\n",
    "importfiles(textnames, directorytext, '.text')\n",
    "\n",
    "xmlnames.to_csv(directorymid+ '/bill_attributes_via_xml_dataframe_only_index.csv')\n",
    "textnames.to_csv(directorymid+'/bill_attributes_via_text_dataframe_only_index.csv')"
   ]
  }
 ],
 "metadata": {
  "kernelspec": {
   "display_name": "Python 3 (ipykernel)",
   "language": "python",
   "name": "python3"
  },
  "language_info": {
   "codemirror_mode": {
    "name": "ipython",
    "version": 3
   },
   "file_extension": ".py",
   "mimetype": "text/x-python",
   "name": "python",
   "nbconvert_exporter": "python",
   "pygments_lexer": "ipython3",
   "version": "3.9.9"
  }
 },
 "nbformat": 4,
 "nbformat_minor": 5
}
