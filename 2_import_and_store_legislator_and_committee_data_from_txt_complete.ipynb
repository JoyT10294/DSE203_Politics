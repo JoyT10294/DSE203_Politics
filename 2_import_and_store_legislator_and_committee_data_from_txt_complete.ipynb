{
 "cells": [
  {
   "cell_type": "code",
   "execution_count": 1,
   "id": "2117774e",
   "metadata": {},
   "outputs": [
    {
     "name": "stderr",
     "output_type": "stream",
     "text": [
      "[nltk_data] Downloading package punkt to\n",
      "[nltk_data]     /Users/joythompson/nltk_data...\n",
      "[nltk_data]   Package punkt is already up-to-date!\n",
      "[nltk_data] Downloading package averaged_perceptron_tagger to\n",
      "[nltk_data]     /Users/joythompson/nltk_data...\n",
      "[nltk_data]   Package averaged_perceptron_tagger is already up-to-\n",
      "[nltk_data]       date!\n"
     ]
    }
   ],
   "source": [
    "import pandas as pd\n",
    "import numpy as np\n",
    "import re\n",
    "import warnings\n",
    "warnings.filterwarnings(\"ignore\")\n",
    "import math\n",
    "import os\n",
    "import datetime\n",
    "from pandas import DataFrame\n",
    "import itertools\n",
    "from bs4 import BeautifulSoup\n",
    "import urllib.request\n",
    "import requests\n",
    "import random\n",
    "import torch\n",
    "import xmltodict\n",
    "import xml.etree.ElementTree as ET\n",
    "import xml\n",
    "from xml.etree.ElementTree import parse\n",
    "from xml.parsers import expat\n",
    "from xml.dom.minidom import parse, parseString\n",
    "import psycopg2\n",
    "import PyPDF2\n",
    "import pikepdf\n",
    "from bs4 import BeautifulSoup\n",
    "import nltk\n",
    "nltk.download('punkt')\n",
    "nltk.download('averaged_perceptron_tagger')\n",
    "import re\n",
    "import spacy"
   ]
  },
  {
   "cell_type": "code",
   "execution_count": null,
   "id": "87119909",
   "metadata": {},
   "outputs": [],
   "source": [
    "def createfiledirectory(directory):\n",
    "    try:\n",
    "        if not os.path.exists(directory):\n",
    "            os.makedirs(directory)\n",
    "    except OSError:\n",
    "        print ('Error: Creating directory. ' +  directory)\n",
    "    return directory"
   ]
  },
  {
   "cell_type": "markdown",
   "id": "9f07c172",
   "metadata": {},
   "source": [
    "# **Define Functions to Import & Store Legislator-Committee Relationship Data from a Text File**"
   ]
  },
  {
   "cell_type": "code",
   "execution_count": 2,
   "id": "86b39cc5",
   "metadata": {},
   "outputs": [],
   "source": [
    "def findchair(com): \n",
    "    com=com.lstrip(' ')\n",
    "    if 'vice' in com:\n",
    "        com=com.split(', vi')[0]\n",
    "        chair='vice chair'\n",
    "    elif 'chair' in com or 'chiar' in com:\n",
    "        com=com.split(', ch')[0]\n",
    "        chair='chair'\n",
    "    else:\n",
    "        chair=''\n",
    "    return com, chair# **Call Functions to Import & Store Legislator-Committee Relationship Data from a Text File**"
   ]
  },
  {
   "cell_type": "code",
   "execution_count": 3,
   "id": "52645133",
   "metadata": {},
   "outputs": [],
   "source": [
    "def lastnamefix(lastname):\n",
    "    if \"'\" in lastname:\n",
    "        lastname=lastname.split(\"``\")[0].rstrip(' ')\n",
    "    return lastname"
   ]
  },
  {
   "cell_type": "code",
   "execution_count": 4,
   "id": "c973ec88",
   "metadata": {},
   "outputs": [],
   "source": [
    "def longnames(name):\n",
    "    if ',' in name:\n",
    "        namelist=name.replace('.', '').split(',')\n",
    "        name=namelist[0].replace('\\n','').lstrip(' ')\n",
    "        if 'of' not in namelist[1]:\n",
    "            lastname=namelist[1].lstrip(' ')\n",
    "            state=namelist[2].replace('\\n','').split('of ')[1].lstrip(' ')\n",
    "        else:\n",
    "            lastname=namelist[1].replace('\\n','').split(' of ')[0].lstrip(' ')\n",
    "            state=namelist[1].replace('\\n','').split(' of ')[1].lstrip(' ')\n",
    "        lastname=lastnamefix(lastname)\n",
    "    else:\n",
    "        lastname=''\n",
    "        state='' \n",
    "    return name, lastname, state"
   ]
  },
  {
   "cell_type": "code",
   "execution_count": 5,
   "id": "1aa3f30d",
   "metadata": {},
   "outputs": [],
   "source": [
    "def loadrepdatafromxl(commlist):\n",
    "    reppd=pd.DataFrame(columns=['Representative Name','Last Name','State', 'Committee', 'Role'])\n",
    "    for nc in commlist.split('\\n \\n'):\n",
    "        if len(nc.replace('.,','').split('...'))>1:\n",
    "            name, lastname, state = longnames(list(filter(None, nc.replace('.,','').split('...')))[0].replace('\\n','').lstrip(' '))\n",
    "            replist=list(filter(None,list(filter(None,nc.replace('.,','').split('...')))[1].replace('  ', '').replace('\\n', '').split('.')))\n",
    "            for com in replist:\n",
    "                com, chair=findchair(com)\n",
    "                if 'Page' not in str(com):\n",
    "                    reppd=reppd.append({'Representative Name': name,'Last Name':lastname,'State':state, 'Committee': com, 'Role':chair}, ignore_index=True)\n",
    "        elif 'Page' not in str(nc.replace('.,','').split('...')):\n",
    "            replist=list(filter(None,nc.replace('.,','').split('...')[0].replace('  ', '').replace('\\n','').split('.')))\n",
    "            if 'of' not in replist[0]:\n",
    "                for com in replist:\n",
    "                    com, chair=findchair(com)\n",
    "                    reppd=reppd.append({'Representative Name': name,'Last Name':lastname,'State':state, 'Committee': com, 'Role':chair}, ignore_index=True)\n",
    "            else:\n",
    "                com, chair=findchair(replist[1].lstrip(' '))\n",
    "                reppd=reppd.append({'Representative Name': replist[0].split(',')[0],'Last Name':lastnamefix(replist[0].split(',')[1].split(' of ')[0].lstrip(' ')),\n",
    "                                    'State':replist[0].split(',')[1].split(' of ')[1],'Committee': com, 'Role':chair}, ignore_index=True)\n",
    "    return reppd"
   ]
  },
  {
   "cell_type": "markdown",
   "id": "dea2a463",
   "metadata": {},
   "source": [
    "# **Call Functions to Import & Store Legislator-Committee Relationship Data from a Text File**"
   ]
  },
  {
   "cell_type": "code",
   "execution_count": 7,
   "id": "7f6279b5",
   "metadata": {},
   "outputs": [],
   "source": [
    "username='joythompson'\n",
    "rawdf=\"/Users/\"+username+\"/Desktop/DSE_203_JoyT/DSE_203_Final_Project_JoyT/Raw_Data_Files/\"\n",
    "commlist= open(rawdf+ 'Committees.txt','r').read()\n",
    "directoryfin=createfiledirectory('/Users/'+username+'/Desktop/DSE_203_JoyT/DSE_203_Final_Project_JoyT/Bill_Rep_Parsing_to_SQL_Main/')"
   ]
  },
  {
   "cell_type": "code",
   "execution_count": 8,
   "id": "f5dbb18d",
   "metadata": {},
   "outputs": [],
   "source": [
    "reppd= loadrepdatafromxl(commlist)\n",
    "reppd.to_csv(directoryfin +'/unique_legislator_committee_relationship_by_line.csv')"
   ]
  }
 ],
 "metadata": {
  "kernelspec": {
   "display_name": "Python 3 (ipykernel)",
   "language": "python",
   "name": "python3"
  },
  "language_info": {
   "codemirror_mode": {
    "name": "ipython",
    "version": 3
   },
   "file_extension": ".py",
   "mimetype": "text/x-python",
   "name": "python",
   "nbconvert_exporter": "python",
   "pygments_lexer": "ipython3",
   "version": "3.9.9"
  }
 },
 "nbformat": 4,
 "nbformat_minor": 5
}
