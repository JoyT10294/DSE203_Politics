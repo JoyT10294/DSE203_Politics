{
 "cells": [
  {
   "cell_type": "code",
   "execution_count": 1,
   "id": "d1cd48e2",
   "metadata": {},
   "outputs": [
    {
     "name": "stderr",
     "output_type": "stream",
     "text": [
      "[nltk_data] Downloading package punkt to\n",
      "[nltk_data]     /Users/joythompson/nltk_data...\n",
      "[nltk_data]   Package punkt is already up-to-date!\n",
      "[nltk_data] Downloading package averaged_perceptron_tagger to\n",
      "[nltk_data]     /Users/joythompson/nltk_data...\n",
      "[nltk_data]   Package averaged_perceptron_tagger is already up-to-\n",
      "[nltk_data]       date!\n"
     ]
    }
   ],
   "source": [
    "import pandas as pd\n",
    "import numpy as np\n",
    "import re\n",
    "import warnings\n",
    "warnings.filterwarnings(\"ignore\")\n",
    "import math\n",
    "import os\n",
    "import datetime\n",
    "from pandas import DataFrame\n",
    "import itertools\n",
    "from bs4 import BeautifulSoup\n",
    "import urllib.request\n",
    "import requests\n",
    "import random\n",
    "import torch\n",
    "import xmltodict\n",
    "import xml.etree.ElementTree as ET\n",
    "import xml\n",
    "from xml.etree.ElementTree import parse\n",
    "from xml.parsers import expat\n",
    "from xml.dom.minidom import parse, parseString\n",
    "import psycopg2\n",
    "import PyPDF2\n",
    "import pikepdf\n",
    "from bs4 import BeautifulSoup\n",
    "import nltk\n",
    "nltk.download('punkt')\n",
    "nltk.download('averaged_perceptron_tagger')\n",
    "import re\n",
    "import spacy"
   ]
  },
  {
   "cell_type": "code",
   "execution_count": 2,
   "id": "6b39c05b",
   "metadata": {},
   "outputs": [],
   "source": [
    "def createfiledirectory(directory):\n",
    "    try:\n",
    "        if not os.path.exists(directory):\n",
    "            os.makedirs(directory)\n",
    "    except OSError:\n",
    "        print ('Error: Creating directory. ' +  directory)\n",
    "    return directory"
   ]
  },
  {
   "cell_type": "markdown",
   "id": "a0cdfb02",
   "metadata": {},
   "source": [
    "# **LOAD & TRANSFORM BILL XML DATA FROM LOCAL FILE**"
   ]
  },
  {
   "cell_type": "code",
   "execution_count": 3,
   "id": "aabceda0",
   "metadata": {},
   "outputs": [],
   "source": [
    "def iterroot(root, rootstr, elements):\n",
    "    detlist=[]\n",
    "    if rootstr in elements:\n",
    "        for var in root.iter(rootstr):\n",
    "            detlist.append(var.text)\n",
    "    if detlist==[]:\n",
    "        detlist=['']\n",
    "    return detlist"
   ]
  },
  {
   "cell_type": "code",
   "execution_count": 4,
   "id": "077986af",
   "metadata": {},
   "outputs": [],
   "source": [
    "def breaknames(name, xmlnames):\n",
    "    first=''\n",
    "    last=''\n",
    "    state=''\n",
    "    if name!='':\n",
    "        if 'of ' in name:\n",
    "            state=name.split('of ')[1];\n",
    "            fullname=name.split(' of ')[0].split(' ')[1:];\n",
    "        else:\n",
    "            fullname=name.split(' ')[1:];\n",
    "        if len(fullname)==2:\n",
    "            first=fullname[0];\n",
    "            last=fullname[1];\n",
    "        elif len(fullname)==3:\n",
    "            first=fullname[0]+ ' ' + fullname[1][0];\n",
    "            last=fullname[2];\n",
    "        elif len(fullname)==4:\n",
    "            first=fullname[0]+ ' ' + fullname[1][0];\n",
    "            last=fullname[2] + ' '+ fullname[3];\n",
    "        elif len(fullname)==1:\n",
    "            last=fullname[0];\n",
    "    return first, last, state"
   ]
  },
  {
   "cell_type": "code",
   "execution_count": 5,
   "id": "18912ffe",
   "metadata": {},
   "outputs": [],
   "source": [
    "def parsexml(xmlnamesraw, directoryxml):\n",
    "\n",
    "    xmlnamesraw=xmlnamesraw[['Name', 'Link', 'OfficialTitle','LegisType', 'BillStage']]\n",
    "    xmlnames=xmlnamesraw.set_index('Name')\n",
    "    xmlspon=pd.DataFrame(columns=[ 'BillID', 'SponsorLastName', 'SponsorFirstName', 'SponsorState', 'PrimaryOrCoSponsor'])\n",
    "    xmlcomm=pd.DataFrame(columns=[ 'BillID', 'CommittteeName'])\n",
    "    xmldate=pd.DataFrame(columns=[ 'BillID', 'Date'])\n",
    "    \n",
    "    headerpd=pd.DataFrame(columns=['BillID', 'BillName', 'Header','HeaderID', 'HeaderOrderID', 'Key', 'Text',  ])\n",
    "    billid=1\n",
    "    headerid=0\n",
    "    for billname in xmlnames.index:\n",
    "        filename=directoryxml + '/' + billname + '.xml';\n",
    "        tree = ET.parse(filename);\n",
    "        root = tree.getroot();\n",
    "        elements=[elem.tag for elem in root.iter()];\n",
    "        xmlnames.loc[billname, 'OfficialTitle']=iterroot(root, 'official-title', elements)[0];\n",
    "        xmlnames.loc[billname, 'LegisType']=iterroot(root,'legis-type', elements)[0];\n",
    "        \n",
    "        for var in root.iter('bill'):\n",
    "            xmlnames.loc[billname, 'BillStage']=var.attrib['bill-stage'];\n",
    "        \n",
    "        date=iterroot(root,'action-date', elements)\n",
    "        commit=iterroot(root,'committee-name',elements)\n",
    "        spon=iterroot(root,'sponsor',elements)\n",
    "        cospon=iterroot(root,'cosponsor',elements)\n",
    "        \n",
    "        for idval  in spon:\n",
    "            first, last, state = breaknames(idval, xmlnames);\n",
    "            xmlspon=xmlspon.append({ 'BillID':billid, 'SponsorLastName':last, 'SponsorFirstName':first, 'SponsorState':state, \n",
    "                                            'PrimaryOrCoSponsor':'Primary'}, ignore_index=True);\n",
    "        for idval  in cospon:\n",
    "            first, last, state = breaknames(idval, xmlnames);\n",
    "            xmlspon=xmlspon.append({ 'BillID':billid, 'SponsorLastName':last, 'SponsorFirstName':first, 'SponsorState':state, \n",
    "                                            'PrimaryOrCoSponsor':'Co'}, ignore_index=True);\n",
    "        for idval in date:\n",
    "             xmldate=xmldate.append({'BillID':billid, 'Date':idval}, ignore_index=True);\n",
    "        for idval in commit:\n",
    "            xmlcomm=xmlcomm.append({'BillID':billid, 'CommittteeName':idval}, ignore_index=True);\n",
    "      \n",
    "        lasttag=''\n",
    "        headerorder=0\n",
    "        for var in root.iter('*'):\n",
    "            tag=var.tag;\n",
    "            text=var.text;\n",
    "            if tag =='header':\n",
    "                headerorder=1\n",
    "                headerid=headerid+1\n",
    "                lasttag='header';\n",
    "                header=text;\n",
    "                headerpd=headerpd.append({'BillID':billid, 'BillName': billname, 'Header':header, 'HeaderID':headerid, 'HeaderOrderID':headerorder,\n",
    "                                          'Key':tag, 'Text':text}, ignore_index=True);\n",
    "            elif tag=='paragraph':\n",
    "                lasttag='paragraph';\n",
    "            elif lasttag=='header' and tag in ['text', 'quote', 'short-title', 'external-xref', 'quoted-block', 'term'] and str(text)!='None':\n",
    "                headerpd=headerpd.append({'BillID':billid, 'BillName': billname, 'Header':header, \n",
    "                                           'HeaderID':headerid, 'HeaderOrderID':headerorder, 'Key':tag, 'Text':text}, ignore_index=True);\n",
    "                headerorder=headerorder+1\n",
    "        billid=billid+1    \n",
    "    return xmlnames,  xmldate,  xmlspon, xmlcomm, headerpd"
   ]
  },
  {
   "cell_type": "code",
   "execution_count": 6,
   "id": "7d5ff6f2",
   "metadata": {},
   "outputs": [],
   "source": [
    "def findkeywordlabel(headers):\n",
    "    uniquewordpd=pd.DataFrame(columns=['WordText','WordTextLower', 'CategoryLabel'])\n",
    "    nlp = spacy.load(\"en_core_web_sm\")\n",
    "    wordlabelpd=pd.DataFrame(columns=['BillID', 'HeaderID', 'HeaderOrderID',  'EntityOrderID', 'Text', 'CategoryLabel'])\n",
    "    for ind in headers.index:\n",
    "        doc = nlp(headers.loc[ind,'Text'])\n",
    "        entorder=0\n",
    "        for ent in doc.ents:\n",
    "            entorder=entorder+1\n",
    "            print(ent.text, ent.start_char, ent.end_char, ent.label_)\n",
    "            s\n",
    "            wordlabelpd=wordlabelpd.append({'BillID':headers.loc[ind, 'BillID'], 'HeaderID':headers.loc[ind, 'HeaderID'],'HeaderOrderID':headers.loc[ind, 'HeaderOrderID'],\n",
    "                                            'EntityOrderID':entorder , 'HeaderText': ent.text, 'CategoryLabel': ent.label}, ignore_index=True)\n",
    "            if ent.text.lower() not in uniquewordpd['WordTextLower'].values:\n",
    "                uniquewordpd=uniquewordpd.append({'WordText': ent.text, 'WordTextLower': ent.text.lower(), 'CategoryLabel':ent.label}, ignore_index=True)\n",
    "    return wordlabelpd, uniquewordpd"
   ]
  },
  {
   "cell_type": "code",
   "execution_count": 7,
   "id": "202112d7",
   "metadata": {},
   "outputs": [],
   "source": [
    "def findkeyword(headers):\n",
    "    tokenpd=pd.DataFrame(columns=['BillID', 'HeaderID', 'HeaderOrderID','EntityOrderID', 'Text','De-Conjugate', 'POS Descr', 'POS', 'POS Text', 'Caps'])\n",
    "    keeplist=['no', 'some', 'all','every','each', 'any', 'after', 'before']\n",
    "    dellist= ['DET', 'ADP', 'CCONJ', 'PUNCT', 'SPACE'] \n",
    "    nlp = spacy.load(\"en_core_web_sm\")\n",
    "    for ind in headers.index:\n",
    "        doc = nlp(headers.loc[ind,'Text'].replace('-', ' ').replace('     ', '')) \n",
    "        entorder=0\n",
    "        for token in doc:\n",
    "            if (token.pos_ not in dellist or  str(token.text).lower() in keeplist) :\n",
    "                entorder=entorder+1\n",
    "                tokenpd=tokenpd.append({ 'BillID': headers.loc[ind, 'BillID'], 'HeaderID': headers.loc[ind, 'headerID'],\n",
    "                            'HeaderOrderID': headers.loc[ind, 'HeaderOrderID'],'EntityOrderID':entorder, 'Text':token.text, 'De-Conjugate': token.lemma_,\n",
    "                            'POS Descr':token.pos_,  'POS':token.tag_, 'POS Text':token.dep_, 'Caps':token.shape_},ignore_index=True)\n",
    "    return tokenpd"
   ]
  },
  {
   "cell_type": "markdown",
   "id": "aa5b8348",
   "metadata": {},
   "source": [
    "# **EXECUTE DATA IMPORT & TRANSFORM FUNCTIONS**"
   ]
  },
  {
   "cell_type": "code",
   "execution_count": 8,
   "id": "c630914c",
   "metadata": {},
   "outputs": [
    {
     "ename": "FileNotFoundError",
     "evalue": "[Errno 2] No such file or directory: '/Users/joythompson/Desktop/DSE_203_JoyT/DSE_203_Final_Project_JoyT/transitional_transform_data//bill_attributes_via_xml_dataframe_only_index.csv'",
     "output_type": "error",
     "traceback": [
      "\u001b[0;31m---------------------------------------------------------------------------\u001b[0m",
      "\u001b[0;31mFileNotFoundError\u001b[0m                         Traceback (most recent call last)",
      "\u001b[0;32m/var/folders/zt/sk2gv8351kd6jdnkzs4n4sy80000gn/T/ipykernel_44615/1884505432.py\u001b[0m in \u001b[0;36m<module>\u001b[0;34m\u001b[0m\n\u001b[1;32m      5\u001b[0m \u001b[0mdirectoryxml\u001b[0m\u001b[0;34m=\u001b[0m\u001b[0;34m'/Users/'\u001b[0m\u001b[0;34m+\u001b[0m\u001b[0musername\u001b[0m\u001b[0;34m+\u001b[0m\u001b[0;34m'/Desktop/DSE_203_JoyT/DSE_203_Final_Project_JoyT/transitional_transform_data/DSE_project_xml'\u001b[0m\u001b[0;34m\u001b[0m\u001b[0;34m\u001b[0m\u001b[0m\n\u001b[1;32m      6\u001b[0m \u001b[0mdirectorytext\u001b[0m\u001b[0;34m=\u001b[0m \u001b[0;34m'/Users/'\u001b[0m\u001b[0;34m+\u001b[0m\u001b[0musername\u001b[0m\u001b[0;34m+\u001b[0m\u001b[0;34m'/Desktop//DSE_203_JoyT/DSE_203_Final_Project_JoyT/transitional_transform_data/DSE_project_text'\u001b[0m\u001b[0;34m\u001b[0m\u001b[0;34m\u001b[0m\u001b[0m\n\u001b[0;32m----> 7\u001b[0;31m \u001b[0mxmlnames\u001b[0m \u001b[0;34m=\u001b[0m \u001b[0mpd\u001b[0m\u001b[0;34m.\u001b[0m\u001b[0mread_csv\u001b[0m\u001b[0;34m(\u001b[0m\u001b[0mdirectorymidtransform\u001b[0m\u001b[0;34m+\u001b[0m \u001b[0;34m'/bill_attributes_via_xml_dataframe_only_index.csv'\u001b[0m\u001b[0;34m)\u001b[0m\u001b[0;34m\u001b[0m\u001b[0;34m\u001b[0m\u001b[0m\n\u001b[0m\u001b[1;32m      8\u001b[0m \u001b[0mtextnames\u001b[0m \u001b[0;34m=\u001b[0m\u001b[0mpd\u001b[0m\u001b[0;34m.\u001b[0m\u001b[0mread_csv\u001b[0m\u001b[0;34m(\u001b[0m\u001b[0mdirectorymidtransform\u001b[0m\u001b[0;34m+\u001b[0m\u001b[0;34m'/bill_attributes_via_text_dataframe_only_index.csv'\u001b[0m\u001b[0;34m)\u001b[0m\u001b[0;34m\u001b[0m\u001b[0;34m\u001b[0m\u001b[0m\n",
      "\u001b[0;32m/opt/homebrew/lib/python3.9/site-packages/pandas/util/_decorators.py\u001b[0m in \u001b[0;36mwrapper\u001b[0;34m(*args, **kwargs)\u001b[0m\n\u001b[1;32m    309\u001b[0m                     \u001b[0mstacklevel\u001b[0m\u001b[0;34m=\u001b[0m\u001b[0mstacklevel\u001b[0m\u001b[0;34m,\u001b[0m\u001b[0;34m\u001b[0m\u001b[0;34m\u001b[0m\u001b[0m\n\u001b[1;32m    310\u001b[0m                 )\n\u001b[0;32m--> 311\u001b[0;31m             \u001b[0;32mreturn\u001b[0m \u001b[0mfunc\u001b[0m\u001b[0;34m(\u001b[0m\u001b[0;34m*\u001b[0m\u001b[0margs\u001b[0m\u001b[0;34m,\u001b[0m \u001b[0;34m**\u001b[0m\u001b[0mkwargs\u001b[0m\u001b[0;34m)\u001b[0m\u001b[0;34m\u001b[0m\u001b[0;34m\u001b[0m\u001b[0m\n\u001b[0m\u001b[1;32m    312\u001b[0m \u001b[0;34m\u001b[0m\u001b[0m\n\u001b[1;32m    313\u001b[0m         \u001b[0;32mreturn\u001b[0m \u001b[0mwrapper\u001b[0m\u001b[0;34m\u001b[0m\u001b[0;34m\u001b[0m\u001b[0m\n",
      "\u001b[0;32m/opt/homebrew/lib/python3.9/site-packages/pandas/io/parsers/readers.py\u001b[0m in \u001b[0;36mread_csv\u001b[0;34m(filepath_or_buffer, sep, delimiter, header, names, index_col, usecols, squeeze, prefix, mangle_dupe_cols, dtype, engine, converters, true_values, false_values, skipinitialspace, skiprows, skipfooter, nrows, na_values, keep_default_na, na_filter, verbose, skip_blank_lines, parse_dates, infer_datetime_format, keep_date_col, date_parser, dayfirst, cache_dates, iterator, chunksize, compression, thousands, decimal, lineterminator, quotechar, quoting, doublequote, escapechar, comment, encoding, encoding_errors, dialect, error_bad_lines, warn_bad_lines, on_bad_lines, delim_whitespace, low_memory, memory_map, float_precision, storage_options)\u001b[0m\n\u001b[1;32m    584\u001b[0m     \u001b[0mkwds\u001b[0m\u001b[0;34m.\u001b[0m\u001b[0mupdate\u001b[0m\u001b[0;34m(\u001b[0m\u001b[0mkwds_defaults\u001b[0m\u001b[0;34m)\u001b[0m\u001b[0;34m\u001b[0m\u001b[0;34m\u001b[0m\u001b[0m\n\u001b[1;32m    585\u001b[0m \u001b[0;34m\u001b[0m\u001b[0m\n\u001b[0;32m--> 586\u001b[0;31m     \u001b[0;32mreturn\u001b[0m \u001b[0m_read\u001b[0m\u001b[0;34m(\u001b[0m\u001b[0mfilepath_or_buffer\u001b[0m\u001b[0;34m,\u001b[0m \u001b[0mkwds\u001b[0m\u001b[0;34m)\u001b[0m\u001b[0;34m\u001b[0m\u001b[0;34m\u001b[0m\u001b[0m\n\u001b[0m\u001b[1;32m    587\u001b[0m \u001b[0;34m\u001b[0m\u001b[0m\n\u001b[1;32m    588\u001b[0m \u001b[0;34m\u001b[0m\u001b[0m\n",
      "\u001b[0;32m/opt/homebrew/lib/python3.9/site-packages/pandas/io/parsers/readers.py\u001b[0m in \u001b[0;36m_read\u001b[0;34m(filepath_or_buffer, kwds)\u001b[0m\n\u001b[1;32m    480\u001b[0m \u001b[0;34m\u001b[0m\u001b[0m\n\u001b[1;32m    481\u001b[0m     \u001b[0;31m# Create the parser.\u001b[0m\u001b[0;34m\u001b[0m\u001b[0;34m\u001b[0m\u001b[0m\n\u001b[0;32m--> 482\u001b[0;31m     \u001b[0mparser\u001b[0m \u001b[0;34m=\u001b[0m \u001b[0mTextFileReader\u001b[0m\u001b[0;34m(\u001b[0m\u001b[0mfilepath_or_buffer\u001b[0m\u001b[0;34m,\u001b[0m \u001b[0;34m**\u001b[0m\u001b[0mkwds\u001b[0m\u001b[0;34m)\u001b[0m\u001b[0;34m\u001b[0m\u001b[0;34m\u001b[0m\u001b[0m\n\u001b[0m\u001b[1;32m    483\u001b[0m \u001b[0;34m\u001b[0m\u001b[0m\n\u001b[1;32m    484\u001b[0m     \u001b[0;32mif\u001b[0m \u001b[0mchunksize\u001b[0m \u001b[0;32mor\u001b[0m \u001b[0miterator\u001b[0m\u001b[0;34m:\u001b[0m\u001b[0;34m\u001b[0m\u001b[0;34m\u001b[0m\u001b[0m\n",
      "\u001b[0;32m/opt/homebrew/lib/python3.9/site-packages/pandas/io/parsers/readers.py\u001b[0m in \u001b[0;36m__init__\u001b[0;34m(self, f, engine, **kwds)\u001b[0m\n\u001b[1;32m    809\u001b[0m             \u001b[0mself\u001b[0m\u001b[0;34m.\u001b[0m\u001b[0moptions\u001b[0m\u001b[0;34m[\u001b[0m\u001b[0;34m\"has_index_names\"\u001b[0m\u001b[0;34m]\u001b[0m \u001b[0;34m=\u001b[0m \u001b[0mkwds\u001b[0m\u001b[0;34m[\u001b[0m\u001b[0;34m\"has_index_names\"\u001b[0m\u001b[0;34m]\u001b[0m\u001b[0;34m\u001b[0m\u001b[0;34m\u001b[0m\u001b[0m\n\u001b[1;32m    810\u001b[0m \u001b[0;34m\u001b[0m\u001b[0m\n\u001b[0;32m--> 811\u001b[0;31m         \u001b[0mself\u001b[0m\u001b[0;34m.\u001b[0m\u001b[0m_engine\u001b[0m \u001b[0;34m=\u001b[0m \u001b[0mself\u001b[0m\u001b[0;34m.\u001b[0m\u001b[0m_make_engine\u001b[0m\u001b[0;34m(\u001b[0m\u001b[0mself\u001b[0m\u001b[0;34m.\u001b[0m\u001b[0mengine\u001b[0m\u001b[0;34m)\u001b[0m\u001b[0;34m\u001b[0m\u001b[0;34m\u001b[0m\u001b[0m\n\u001b[0m\u001b[1;32m    812\u001b[0m \u001b[0;34m\u001b[0m\u001b[0m\n\u001b[1;32m    813\u001b[0m     \u001b[0;32mdef\u001b[0m \u001b[0mclose\u001b[0m\u001b[0;34m(\u001b[0m\u001b[0mself\u001b[0m\u001b[0;34m)\u001b[0m\u001b[0;34m:\u001b[0m\u001b[0;34m\u001b[0m\u001b[0;34m\u001b[0m\u001b[0m\n",
      "\u001b[0;32m/opt/homebrew/lib/python3.9/site-packages/pandas/io/parsers/readers.py\u001b[0m in \u001b[0;36m_make_engine\u001b[0;34m(self, engine)\u001b[0m\n\u001b[1;32m   1038\u001b[0m             )\n\u001b[1;32m   1039\u001b[0m         \u001b[0;31m# error: Too many arguments for \"ParserBase\"\u001b[0m\u001b[0;34m\u001b[0m\u001b[0;34m\u001b[0m\u001b[0m\n\u001b[0;32m-> 1040\u001b[0;31m         \u001b[0;32mreturn\u001b[0m \u001b[0mmapping\u001b[0m\u001b[0;34m[\u001b[0m\u001b[0mengine\u001b[0m\u001b[0;34m]\u001b[0m\u001b[0;34m(\u001b[0m\u001b[0mself\u001b[0m\u001b[0;34m.\u001b[0m\u001b[0mf\u001b[0m\u001b[0;34m,\u001b[0m \u001b[0;34m**\u001b[0m\u001b[0mself\u001b[0m\u001b[0;34m.\u001b[0m\u001b[0moptions\u001b[0m\u001b[0;34m)\u001b[0m  \u001b[0;31m# type: ignore[call-arg]\u001b[0m\u001b[0;34m\u001b[0m\u001b[0;34m\u001b[0m\u001b[0m\n\u001b[0m\u001b[1;32m   1041\u001b[0m \u001b[0;34m\u001b[0m\u001b[0m\n\u001b[1;32m   1042\u001b[0m     \u001b[0;32mdef\u001b[0m \u001b[0m_failover_to_python\u001b[0m\u001b[0;34m(\u001b[0m\u001b[0mself\u001b[0m\u001b[0;34m)\u001b[0m\u001b[0;34m:\u001b[0m\u001b[0;34m\u001b[0m\u001b[0;34m\u001b[0m\u001b[0m\n",
      "\u001b[0;32m/opt/homebrew/lib/python3.9/site-packages/pandas/io/parsers/c_parser_wrapper.py\u001b[0m in \u001b[0;36m__init__\u001b[0;34m(self, src, **kwds)\u001b[0m\n\u001b[1;32m     49\u001b[0m \u001b[0;34m\u001b[0m\u001b[0m\n\u001b[1;32m     50\u001b[0m         \u001b[0;31m# open handles\u001b[0m\u001b[0;34m\u001b[0m\u001b[0;34m\u001b[0m\u001b[0m\n\u001b[0;32m---> 51\u001b[0;31m         \u001b[0mself\u001b[0m\u001b[0;34m.\u001b[0m\u001b[0m_open_handles\u001b[0m\u001b[0;34m(\u001b[0m\u001b[0msrc\u001b[0m\u001b[0;34m,\u001b[0m \u001b[0mkwds\u001b[0m\u001b[0;34m)\u001b[0m\u001b[0;34m\u001b[0m\u001b[0;34m\u001b[0m\u001b[0m\n\u001b[0m\u001b[1;32m     52\u001b[0m         \u001b[0;32massert\u001b[0m \u001b[0mself\u001b[0m\u001b[0;34m.\u001b[0m\u001b[0mhandles\u001b[0m \u001b[0;32mis\u001b[0m \u001b[0;32mnot\u001b[0m \u001b[0;32mNone\u001b[0m\u001b[0;34m\u001b[0m\u001b[0;34m\u001b[0m\u001b[0m\n\u001b[1;32m     53\u001b[0m \u001b[0;34m\u001b[0m\u001b[0m\n",
      "\u001b[0;32m/opt/homebrew/lib/python3.9/site-packages/pandas/io/parsers/base_parser.py\u001b[0m in \u001b[0;36m_open_handles\u001b[0;34m(self, src, kwds)\u001b[0m\n\u001b[1;32m    220\u001b[0m         \u001b[0mLet\u001b[0m \u001b[0mthe\u001b[0m \u001b[0mreaders\u001b[0m \u001b[0mopen\u001b[0m \u001b[0mIOHandles\u001b[0m \u001b[0mafter\u001b[0m \u001b[0mthey\u001b[0m \u001b[0mare\u001b[0m \u001b[0mdone\u001b[0m \u001b[0;32mwith\u001b[0m \u001b[0mtheir\u001b[0m \u001b[0mpotential\u001b[0m \u001b[0mraises\u001b[0m\u001b[0;34m.\u001b[0m\u001b[0;34m\u001b[0m\u001b[0;34m\u001b[0m\u001b[0m\n\u001b[1;32m    221\u001b[0m         \"\"\"\n\u001b[0;32m--> 222\u001b[0;31m         self.handles = get_handle(\n\u001b[0m\u001b[1;32m    223\u001b[0m             \u001b[0msrc\u001b[0m\u001b[0;34m,\u001b[0m\u001b[0;34m\u001b[0m\u001b[0;34m\u001b[0m\u001b[0m\n\u001b[1;32m    224\u001b[0m             \u001b[0;34m\"r\"\u001b[0m\u001b[0;34m,\u001b[0m\u001b[0;34m\u001b[0m\u001b[0;34m\u001b[0m\u001b[0m\n",
      "\u001b[0;32m/opt/homebrew/lib/python3.9/site-packages/pandas/io/common.py\u001b[0m in \u001b[0;36mget_handle\u001b[0;34m(path_or_buf, mode, encoding, compression, memory_map, is_text, errors, storage_options)\u001b[0m\n\u001b[1;32m    700\u001b[0m         \u001b[0;32mif\u001b[0m \u001b[0mioargs\u001b[0m\u001b[0;34m.\u001b[0m\u001b[0mencoding\u001b[0m \u001b[0;32mand\u001b[0m \u001b[0;34m\"b\"\u001b[0m \u001b[0;32mnot\u001b[0m \u001b[0;32min\u001b[0m \u001b[0mioargs\u001b[0m\u001b[0;34m.\u001b[0m\u001b[0mmode\u001b[0m\u001b[0;34m:\u001b[0m\u001b[0;34m\u001b[0m\u001b[0;34m\u001b[0m\u001b[0m\n\u001b[1;32m    701\u001b[0m             \u001b[0;31m# Encoding\u001b[0m\u001b[0;34m\u001b[0m\u001b[0;34m\u001b[0m\u001b[0m\n\u001b[0;32m--> 702\u001b[0;31m             handle = open(\n\u001b[0m\u001b[1;32m    703\u001b[0m                 \u001b[0mhandle\u001b[0m\u001b[0;34m,\u001b[0m\u001b[0;34m\u001b[0m\u001b[0;34m\u001b[0m\u001b[0m\n\u001b[1;32m    704\u001b[0m                 \u001b[0mioargs\u001b[0m\u001b[0;34m.\u001b[0m\u001b[0mmode\u001b[0m\u001b[0;34m,\u001b[0m\u001b[0;34m\u001b[0m\u001b[0;34m\u001b[0m\u001b[0m\n",
      "\u001b[0;31mFileNotFoundError\u001b[0m: [Errno 2] No such file or directory: '/Users/joythompson/Desktop/DSE_203_JoyT/DSE_203_Final_Project_JoyT/transitional_transform_data//bill_attributes_via_xml_dataframe_only_index.csv'"
     ]
    }
   ],
   "source": [
    "username='joythompson'\n",
    "projfol=\"/Users/\"+username+\"/Desktop/DSE_203_JoyT/DSE_203_Final_Project_JoyT/\"\n",
    "rawbilldf=projfol+ \"Raw_Data_Files/Bill_Data_from_HTML_XML/\"\n",
    "directorybillmain=createfiledirectory(projfol+ 'Bill_Rep_Parsing_to_SQL_Main/')\n",
    "directorybillhead=createfiledirectory(projfol+ 'Bill_Parsing_Headers/')\n",
    "directoryxml=rawbilldf+ 'DSE_project_xml'\n",
    "directorytext=rawbilldf+ 'DSE_project_text'\n",
    "xmlnames = pd.read_csv(rawbilldf+ 'bill_attributes_via_xml_dataframe_only_index.csv')\n",
    "textnames =pd.read_csv(rawbilldf+'bill_attributes_via_text_dataframe_only_index.csv')"
   ]
  },
  {
   "cell_type": "code",
   "execution_count": null,
   "id": "40b77c92",
   "metadata": {},
   "outputs": [],
   "source": [
    "xmlnames, xmldate,  xmlspon, xmlcomm, headerpd=parsexml(xmlnames, directoryxml)"
   ]
  },
  {
   "cell_type": "code",
   "execution_count": null,
   "id": "57b72214",
   "metadata": {},
   "outputs": [],
   "source": [
    "xmlnames.to_csv(directorybillmain+ 'bill_main_attributes.csv')\n",
    "xmlspon.to_csv(directorybillmain+ 'bill_sponcospon_attributes.csv')\n",
    "xmldate.to_csv(directorybillmain+ 'bill_date_attributes.csv')\n",
    "xmlcomm.to_csv(directorybillmain+ 'bill_committee_attributes.csv')\n",
    "headerpd.to_csv(directorybillhead+ 'header_text_by_bill_header_with_order.csv')"
   ]
  }
 ],
 "metadata": {
  "kernelspec": {
   "display_name": "Python 3 (ipykernel)",
   "language": "python",
   "name": "python3"
  },
  "language_info": {
   "codemirror_mode": {
    "name": "ipython",
    "version": 3
   },
   "file_extension": ".py",
   "mimetype": "text/x-python",
   "name": "python",
   "nbconvert_exporter": "python",
   "pygments_lexer": "ipython3",
   "version": "3.9.9"
  }
 },
 "nbformat": 4,
 "nbformat_minor": 5
}
