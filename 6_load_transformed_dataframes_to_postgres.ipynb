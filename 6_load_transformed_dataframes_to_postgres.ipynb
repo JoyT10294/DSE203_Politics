{
 "cells": [
  {
   "cell_type": "code",
   "execution_count": 1,
   "id": "d1cd48e2",
   "metadata": {},
   "outputs": [
    {
     "name": "stderr",
     "output_type": "stream",
     "text": [
      "[nltk_data] Downloading package punkt to\n",
      "[nltk_data]     /Users/joythompson/nltk_data...\n",
      "[nltk_data]   Package punkt is already up-to-date!\n",
      "[nltk_data] Downloading package averaged_perceptron_tagger to\n",
      "[nltk_data]     /Users/joythompson/nltk_data...\n",
      "[nltk_data]   Package averaged_perceptron_tagger is already up-to-\n",
      "[nltk_data]       date!\n"
     ]
    }
   ],
   "source": [
    "import pandas as pd\n",
    "import numpy as np\n",
    "import re\n",
    "import warnings\n",
    "warnings.filterwarnings(\"ignore\")\n",
    "import math\n",
    "import os\n",
    "import datetime\n",
    "from pandas import DataFrame\n",
    "import itertools\n",
    "from bs4 import BeautifulSoup\n",
    "import urllib.request\n",
    "import requests\n",
    "import random\n",
    "import torch\n",
    "import xmltodict\n",
    "import xml.etree.ElementTree as ET\n",
    "import xml\n",
    "from xml.etree.ElementTree import parse\n",
    "from xml.parsers import expat\n",
    "from xml.dom.minidom import parse, parseString\n",
    "import psycopg2\n",
    "import PyPDF2\n",
    "import pikepdf\n",
    "from bs4 import BeautifulSoup\n",
    "import nltk\n",
    "nltk.download('punkt')\n",
    "nltk.download('averaged_perceptron_tagger')\n",
    "import re\n",
    "import spacy"
   ]
  },
  {
   "cell_type": "code",
   "execution_count": 5,
   "id": "fac83d4d",
   "metadata": {},
   "outputs": [
    {
     "ename": "OperationalError",
     "evalue": "connection to server at \"127.0.0.1\", port 5432 failed: Connection refused\n\tIs the server running on that host and accepting TCP/IP connections?\n",
     "output_type": "error",
     "traceback": [
      "\u001b[0;31m---------------------------------------------------------------------------\u001b[0m",
      "\u001b[0;31mOperationalError\u001b[0m                          Traceback (most recent call last)",
      "\u001b[0;32m/var/folders/zt/sk2gv8351kd6jdnkzs4n4sy80000gn/T/ipykernel_43958/1004714618.py\u001b[0m in \u001b[0;36m<module>\u001b[0;34m\u001b[0m\n\u001b[1;32m      3\u001b[0m \u001b[0mdirectoryraw\u001b[0m\u001b[0;34m=\u001b[0m\u001b[0;34m'/Users/'\u001b[0m\u001b[0;34m+\u001b[0m\u001b[0musername\u001b[0m\u001b[0;34m+\u001b[0m\u001b[0;34m'/Desktop/DSE_203_JoyT/DSE_203_Final_Project_JoyT/Raw_Data_Files/'\u001b[0m\u001b[0;34m\u001b[0m\u001b[0;34m\u001b[0m\u001b[0m\n\u001b[1;32m      4\u001b[0m \u001b[0mdbname\u001b[0m\u001b[0;34m=\u001b[0m\u001b[0;34m'postgres'\u001b[0m\u001b[0;34m\u001b[0m\u001b[0;34m\u001b[0m\u001b[0m\n\u001b[0;32m----> 5\u001b[0;31m \u001b[0mconn\u001b[0m \u001b[0;34m=\u001b[0m \u001b[0mpsycopg2\u001b[0m\u001b[0;34m.\u001b[0m\u001b[0mconnect\u001b[0m\u001b[0;34m(\u001b[0m\u001b[0mdatabase\u001b[0m\u001b[0;34m=\u001b[0m\u001b[0mdbname\u001b[0m\u001b[0;34m,\u001b[0m \u001b[0muser\u001b[0m\u001b[0;34m=\u001b[0m\u001b[0musername\u001b[0m\u001b[0;34m,\u001b[0m \u001b[0mpassword\u001b[0m\u001b[0;34m=\u001b[0m\u001b[0;34m''\u001b[0m\u001b[0;34m,\u001b[0m \u001b[0mhost\u001b[0m\u001b[0;34m=\u001b[0m\u001b[0;34m'127.0.0.1'\u001b[0m\u001b[0;34m,\u001b[0m \u001b[0mport\u001b[0m\u001b[0;34m=\u001b[0m\u001b[0;34m'5432'\u001b[0m\u001b[0;34m)\u001b[0m\u001b[0;34m\u001b[0m\u001b[0;34m\u001b[0m\u001b[0m\n\u001b[0m\u001b[1;32m      6\u001b[0m \u001b[0mconn\u001b[0m\u001b[0;34m.\u001b[0m\u001b[0mautocommit\u001b[0m \u001b[0;34m=\u001b[0m \u001b[0;32mTrue\u001b[0m\u001b[0;34m\u001b[0m\u001b[0;34m\u001b[0m\u001b[0m\n\u001b[1;32m      7\u001b[0m \u001b[0mcursor\u001b[0m \u001b[0;34m=\u001b[0m \u001b[0mconn\u001b[0m\u001b[0;34m.\u001b[0m\u001b[0mcursor\u001b[0m\u001b[0;34m(\u001b[0m\u001b[0;34m)\u001b[0m\u001b[0;34m\u001b[0m\u001b[0;34m\u001b[0m\u001b[0m\n",
      "\u001b[0;32m/opt/homebrew/lib/python3.9/site-packages/psycopg2/__init__.py\u001b[0m in \u001b[0;36mconnect\u001b[0;34m(dsn, connection_factory, cursor_factory, **kwargs)\u001b[0m\n\u001b[1;32m    120\u001b[0m \u001b[0;34m\u001b[0m\u001b[0m\n\u001b[1;32m    121\u001b[0m     \u001b[0mdsn\u001b[0m \u001b[0;34m=\u001b[0m \u001b[0m_ext\u001b[0m\u001b[0;34m.\u001b[0m\u001b[0mmake_dsn\u001b[0m\u001b[0;34m(\u001b[0m\u001b[0mdsn\u001b[0m\u001b[0;34m,\u001b[0m \u001b[0;34m**\u001b[0m\u001b[0mkwargs\u001b[0m\u001b[0;34m)\u001b[0m\u001b[0;34m\u001b[0m\u001b[0;34m\u001b[0m\u001b[0m\n\u001b[0;32m--> 122\u001b[0;31m     \u001b[0mconn\u001b[0m \u001b[0;34m=\u001b[0m \u001b[0m_connect\u001b[0m\u001b[0;34m(\u001b[0m\u001b[0mdsn\u001b[0m\u001b[0;34m,\u001b[0m \u001b[0mconnection_factory\u001b[0m\u001b[0;34m=\u001b[0m\u001b[0mconnection_factory\u001b[0m\u001b[0;34m,\u001b[0m \u001b[0;34m**\u001b[0m\u001b[0mkwasync\u001b[0m\u001b[0;34m)\u001b[0m\u001b[0;34m\u001b[0m\u001b[0;34m\u001b[0m\u001b[0m\n\u001b[0m\u001b[1;32m    123\u001b[0m     \u001b[0;32mif\u001b[0m \u001b[0mcursor_factory\u001b[0m \u001b[0;32mis\u001b[0m \u001b[0;32mnot\u001b[0m \u001b[0;32mNone\u001b[0m\u001b[0;34m:\u001b[0m\u001b[0;34m\u001b[0m\u001b[0;34m\u001b[0m\u001b[0m\n\u001b[1;32m    124\u001b[0m         \u001b[0mconn\u001b[0m\u001b[0;34m.\u001b[0m\u001b[0mcursor_factory\u001b[0m \u001b[0;34m=\u001b[0m \u001b[0mcursor_factory\u001b[0m\u001b[0;34m\u001b[0m\u001b[0;34m\u001b[0m\u001b[0m\n",
      "\u001b[0;31mOperationalError\u001b[0m: connection to server at \"127.0.0.1\", port 5432 failed: Connection refused\n\tIs the server running on that host and accepting TCP/IP connections?\n"
     ]
    }
   ],
   "source": [
    "username='joythompson'\n",
    "directorymidtransform='/Users/'+username+'/Desktop/DSE_203_JoyT/DSE_203_Final_Project_JoyT/transitional_transform_data/'\n",
    "directoryraw='/Users/'+username+'/Desktop/DSE_203_JoyT/DSE_203_Final_Project_JoyT/Raw_Data_Files/'\n",
    "dbname='postgres'\n",
    "conn = psycopg2.connect(database=dbname, user=username, password='', host='127.0.0.1', port='5432')\n",
    "conn.autocommit = True\n",
    "cursor = conn.cursor()\n",
    "queryschema='Create schema dse203politics'"
   ]
  },
  {
   "cell_type": "markdown",
   "id": "9f49c934",
   "metadata": {},
   "source": [
    "***REPRESENTATIVES***"
   ]
  },
  {
   "cell_type": "code",
   "execution_count": 3,
   "id": "cc8c1e6c",
   "metadata": {},
   "outputs": [
    {
     "ename": "FileNotFoundError",
     "evalue": "[Errno 2] No such file or directory: '/Users/joythompson/DSE_203_JoyT/DSE_203_Final_Project_JoyT/Raw_Data_Files/us-115th-congress-members-fixed.csv'",
     "output_type": "error",
     "traceback": [
      "\u001b[0;31m---------------------------------------------------------------------------\u001b[0m",
      "\u001b[0;31mFileNotFoundError\u001b[0m                         Traceback (most recent call last)",
      "\u001b[0;32m/var/folders/zt/sk2gv8351kd6jdnkzs4n4sy80000gn/T/ipykernel_43958/2741221442.py\u001b[0m in \u001b[0;36m<module>\u001b[0;34m\u001b[0m\n\u001b[1;32m      1\u001b[0m \u001b[0;31m#cursor.execute(queryschema)\u001b[0m\u001b[0;34m\u001b[0m\u001b[0;34m\u001b[0m\u001b[0m\n\u001b[0;32m----> 2\u001b[0;31m \u001b[0mrepinfo\u001b[0m\u001b[0;34m=\u001b[0m\u001b[0mpd\u001b[0m\u001b[0;34m.\u001b[0m\u001b[0mread_csv\u001b[0m\u001b[0;34m(\u001b[0m\u001b[0mdirectoryraw\u001b[0m\u001b[0;34m+\u001b[0m \u001b[0;34m'us-115th-congress-members-fixed.csv'\u001b[0m\u001b[0;34m)\u001b[0m\u001b[0;34m\u001b[0m\u001b[0;34m\u001b[0m\u001b[0m\n\u001b[0m\u001b[1;32m      3\u001b[0m queryrep='CREATE TABLE dse203politics.StateReps (RepresentativeID SERIAL PRIMARY KEY NOT NULL, LastName varchar(255), \\\n\u001b[1;32m      4\u001b[0m     FirstName varchar(255), StateLabel varchar(255), StateCode int, District int, Chamber varchar(255), Party varchar(255))'\n\u001b[1;32m      5\u001b[0m \u001b[0mcursor\u001b[0m\u001b[0;34m.\u001b[0m\u001b[0mexecute\u001b[0m\u001b[0;34m(\u001b[0m\u001b[0mqueryrep\u001b[0m\u001b[0;34m)\u001b[0m\u001b[0;34m\u001b[0m\u001b[0;34m\u001b[0m\u001b[0m\n",
      "\u001b[0;32m/opt/homebrew/lib/python3.9/site-packages/pandas/util/_decorators.py\u001b[0m in \u001b[0;36mwrapper\u001b[0;34m(*args, **kwargs)\u001b[0m\n\u001b[1;32m    309\u001b[0m                     \u001b[0mstacklevel\u001b[0m\u001b[0;34m=\u001b[0m\u001b[0mstacklevel\u001b[0m\u001b[0;34m,\u001b[0m\u001b[0;34m\u001b[0m\u001b[0;34m\u001b[0m\u001b[0m\n\u001b[1;32m    310\u001b[0m                 )\n\u001b[0;32m--> 311\u001b[0;31m             \u001b[0;32mreturn\u001b[0m \u001b[0mfunc\u001b[0m\u001b[0;34m(\u001b[0m\u001b[0;34m*\u001b[0m\u001b[0margs\u001b[0m\u001b[0;34m,\u001b[0m \u001b[0;34m**\u001b[0m\u001b[0mkwargs\u001b[0m\u001b[0;34m)\u001b[0m\u001b[0;34m\u001b[0m\u001b[0;34m\u001b[0m\u001b[0m\n\u001b[0m\u001b[1;32m    312\u001b[0m \u001b[0;34m\u001b[0m\u001b[0m\n\u001b[1;32m    313\u001b[0m         \u001b[0;32mreturn\u001b[0m \u001b[0mwrapper\u001b[0m\u001b[0;34m\u001b[0m\u001b[0;34m\u001b[0m\u001b[0m\n",
      "\u001b[0;32m/opt/homebrew/lib/python3.9/site-packages/pandas/io/parsers/readers.py\u001b[0m in \u001b[0;36mread_csv\u001b[0;34m(filepath_or_buffer, sep, delimiter, header, names, index_col, usecols, squeeze, prefix, mangle_dupe_cols, dtype, engine, converters, true_values, false_values, skipinitialspace, skiprows, skipfooter, nrows, na_values, keep_default_na, na_filter, verbose, skip_blank_lines, parse_dates, infer_datetime_format, keep_date_col, date_parser, dayfirst, cache_dates, iterator, chunksize, compression, thousands, decimal, lineterminator, quotechar, quoting, doublequote, escapechar, comment, encoding, encoding_errors, dialect, error_bad_lines, warn_bad_lines, on_bad_lines, delim_whitespace, low_memory, memory_map, float_precision, storage_options)\u001b[0m\n\u001b[1;32m    584\u001b[0m     \u001b[0mkwds\u001b[0m\u001b[0;34m.\u001b[0m\u001b[0mupdate\u001b[0m\u001b[0;34m(\u001b[0m\u001b[0mkwds_defaults\u001b[0m\u001b[0;34m)\u001b[0m\u001b[0;34m\u001b[0m\u001b[0;34m\u001b[0m\u001b[0m\n\u001b[1;32m    585\u001b[0m \u001b[0;34m\u001b[0m\u001b[0m\n\u001b[0;32m--> 586\u001b[0;31m     \u001b[0;32mreturn\u001b[0m \u001b[0m_read\u001b[0m\u001b[0;34m(\u001b[0m\u001b[0mfilepath_or_buffer\u001b[0m\u001b[0;34m,\u001b[0m \u001b[0mkwds\u001b[0m\u001b[0;34m)\u001b[0m\u001b[0;34m\u001b[0m\u001b[0;34m\u001b[0m\u001b[0m\n\u001b[0m\u001b[1;32m    587\u001b[0m \u001b[0;34m\u001b[0m\u001b[0m\n\u001b[1;32m    588\u001b[0m \u001b[0;34m\u001b[0m\u001b[0m\n",
      "\u001b[0;32m/opt/homebrew/lib/python3.9/site-packages/pandas/io/parsers/readers.py\u001b[0m in \u001b[0;36m_read\u001b[0;34m(filepath_or_buffer, kwds)\u001b[0m\n\u001b[1;32m    480\u001b[0m \u001b[0;34m\u001b[0m\u001b[0m\n\u001b[1;32m    481\u001b[0m     \u001b[0;31m# Create the parser.\u001b[0m\u001b[0;34m\u001b[0m\u001b[0;34m\u001b[0m\u001b[0m\n\u001b[0;32m--> 482\u001b[0;31m     \u001b[0mparser\u001b[0m \u001b[0;34m=\u001b[0m \u001b[0mTextFileReader\u001b[0m\u001b[0;34m(\u001b[0m\u001b[0mfilepath_or_buffer\u001b[0m\u001b[0;34m,\u001b[0m \u001b[0;34m**\u001b[0m\u001b[0mkwds\u001b[0m\u001b[0;34m)\u001b[0m\u001b[0;34m\u001b[0m\u001b[0;34m\u001b[0m\u001b[0m\n\u001b[0m\u001b[1;32m    483\u001b[0m \u001b[0;34m\u001b[0m\u001b[0m\n\u001b[1;32m    484\u001b[0m     \u001b[0;32mif\u001b[0m \u001b[0mchunksize\u001b[0m \u001b[0;32mor\u001b[0m \u001b[0miterator\u001b[0m\u001b[0;34m:\u001b[0m\u001b[0;34m\u001b[0m\u001b[0;34m\u001b[0m\u001b[0m\n",
      "\u001b[0;32m/opt/homebrew/lib/python3.9/site-packages/pandas/io/parsers/readers.py\u001b[0m in \u001b[0;36m__init__\u001b[0;34m(self, f, engine, **kwds)\u001b[0m\n\u001b[1;32m    809\u001b[0m             \u001b[0mself\u001b[0m\u001b[0;34m.\u001b[0m\u001b[0moptions\u001b[0m\u001b[0;34m[\u001b[0m\u001b[0;34m\"has_index_names\"\u001b[0m\u001b[0;34m]\u001b[0m \u001b[0;34m=\u001b[0m \u001b[0mkwds\u001b[0m\u001b[0;34m[\u001b[0m\u001b[0;34m\"has_index_names\"\u001b[0m\u001b[0;34m]\u001b[0m\u001b[0;34m\u001b[0m\u001b[0;34m\u001b[0m\u001b[0m\n\u001b[1;32m    810\u001b[0m \u001b[0;34m\u001b[0m\u001b[0m\n\u001b[0;32m--> 811\u001b[0;31m         \u001b[0mself\u001b[0m\u001b[0;34m.\u001b[0m\u001b[0m_engine\u001b[0m \u001b[0;34m=\u001b[0m \u001b[0mself\u001b[0m\u001b[0;34m.\u001b[0m\u001b[0m_make_engine\u001b[0m\u001b[0;34m(\u001b[0m\u001b[0mself\u001b[0m\u001b[0;34m.\u001b[0m\u001b[0mengine\u001b[0m\u001b[0;34m)\u001b[0m\u001b[0;34m\u001b[0m\u001b[0;34m\u001b[0m\u001b[0m\n\u001b[0m\u001b[1;32m    812\u001b[0m \u001b[0;34m\u001b[0m\u001b[0m\n\u001b[1;32m    813\u001b[0m     \u001b[0;32mdef\u001b[0m \u001b[0mclose\u001b[0m\u001b[0;34m(\u001b[0m\u001b[0mself\u001b[0m\u001b[0;34m)\u001b[0m\u001b[0;34m:\u001b[0m\u001b[0;34m\u001b[0m\u001b[0;34m\u001b[0m\u001b[0m\n",
      "\u001b[0;32m/opt/homebrew/lib/python3.9/site-packages/pandas/io/parsers/readers.py\u001b[0m in \u001b[0;36m_make_engine\u001b[0;34m(self, engine)\u001b[0m\n\u001b[1;32m   1038\u001b[0m             )\n\u001b[1;32m   1039\u001b[0m         \u001b[0;31m# error: Too many arguments for \"ParserBase\"\u001b[0m\u001b[0;34m\u001b[0m\u001b[0;34m\u001b[0m\u001b[0m\n\u001b[0;32m-> 1040\u001b[0;31m         \u001b[0;32mreturn\u001b[0m \u001b[0mmapping\u001b[0m\u001b[0;34m[\u001b[0m\u001b[0mengine\u001b[0m\u001b[0;34m]\u001b[0m\u001b[0;34m(\u001b[0m\u001b[0mself\u001b[0m\u001b[0;34m.\u001b[0m\u001b[0mf\u001b[0m\u001b[0;34m,\u001b[0m \u001b[0;34m**\u001b[0m\u001b[0mself\u001b[0m\u001b[0;34m.\u001b[0m\u001b[0moptions\u001b[0m\u001b[0;34m)\u001b[0m  \u001b[0;31m# type: ignore[call-arg]\u001b[0m\u001b[0;34m\u001b[0m\u001b[0;34m\u001b[0m\u001b[0m\n\u001b[0m\u001b[1;32m   1041\u001b[0m \u001b[0;34m\u001b[0m\u001b[0m\n\u001b[1;32m   1042\u001b[0m     \u001b[0;32mdef\u001b[0m \u001b[0m_failover_to_python\u001b[0m\u001b[0;34m(\u001b[0m\u001b[0mself\u001b[0m\u001b[0;34m)\u001b[0m\u001b[0;34m:\u001b[0m\u001b[0;34m\u001b[0m\u001b[0;34m\u001b[0m\u001b[0m\n",
      "\u001b[0;32m/opt/homebrew/lib/python3.9/site-packages/pandas/io/parsers/c_parser_wrapper.py\u001b[0m in \u001b[0;36m__init__\u001b[0;34m(self, src, **kwds)\u001b[0m\n\u001b[1;32m     49\u001b[0m \u001b[0;34m\u001b[0m\u001b[0m\n\u001b[1;32m     50\u001b[0m         \u001b[0;31m# open handles\u001b[0m\u001b[0;34m\u001b[0m\u001b[0;34m\u001b[0m\u001b[0m\n\u001b[0;32m---> 51\u001b[0;31m         \u001b[0mself\u001b[0m\u001b[0;34m.\u001b[0m\u001b[0m_open_handles\u001b[0m\u001b[0;34m(\u001b[0m\u001b[0msrc\u001b[0m\u001b[0;34m,\u001b[0m \u001b[0mkwds\u001b[0m\u001b[0;34m)\u001b[0m\u001b[0;34m\u001b[0m\u001b[0;34m\u001b[0m\u001b[0m\n\u001b[0m\u001b[1;32m     52\u001b[0m         \u001b[0;32massert\u001b[0m \u001b[0mself\u001b[0m\u001b[0;34m.\u001b[0m\u001b[0mhandles\u001b[0m \u001b[0;32mis\u001b[0m \u001b[0;32mnot\u001b[0m \u001b[0;32mNone\u001b[0m\u001b[0;34m\u001b[0m\u001b[0;34m\u001b[0m\u001b[0m\n\u001b[1;32m     53\u001b[0m \u001b[0;34m\u001b[0m\u001b[0m\n",
      "\u001b[0;32m/opt/homebrew/lib/python3.9/site-packages/pandas/io/parsers/base_parser.py\u001b[0m in \u001b[0;36m_open_handles\u001b[0;34m(self, src, kwds)\u001b[0m\n\u001b[1;32m    220\u001b[0m         \u001b[0mLet\u001b[0m \u001b[0mthe\u001b[0m \u001b[0mreaders\u001b[0m \u001b[0mopen\u001b[0m \u001b[0mIOHandles\u001b[0m \u001b[0mafter\u001b[0m \u001b[0mthey\u001b[0m \u001b[0mare\u001b[0m \u001b[0mdone\u001b[0m \u001b[0;32mwith\u001b[0m \u001b[0mtheir\u001b[0m \u001b[0mpotential\u001b[0m \u001b[0mraises\u001b[0m\u001b[0;34m.\u001b[0m\u001b[0;34m\u001b[0m\u001b[0;34m\u001b[0m\u001b[0m\n\u001b[1;32m    221\u001b[0m         \"\"\"\n\u001b[0;32m--> 222\u001b[0;31m         self.handles = get_handle(\n\u001b[0m\u001b[1;32m    223\u001b[0m             \u001b[0msrc\u001b[0m\u001b[0;34m,\u001b[0m\u001b[0;34m\u001b[0m\u001b[0;34m\u001b[0m\u001b[0m\n\u001b[1;32m    224\u001b[0m             \u001b[0;34m\"r\"\u001b[0m\u001b[0;34m,\u001b[0m\u001b[0;34m\u001b[0m\u001b[0;34m\u001b[0m\u001b[0m\n",
      "\u001b[0;32m/opt/homebrew/lib/python3.9/site-packages/pandas/io/common.py\u001b[0m in \u001b[0;36mget_handle\u001b[0;34m(path_or_buf, mode, encoding, compression, memory_map, is_text, errors, storage_options)\u001b[0m\n\u001b[1;32m    700\u001b[0m         \u001b[0;32mif\u001b[0m \u001b[0mioargs\u001b[0m\u001b[0;34m.\u001b[0m\u001b[0mencoding\u001b[0m \u001b[0;32mand\u001b[0m \u001b[0;34m\"b\"\u001b[0m \u001b[0;32mnot\u001b[0m \u001b[0;32min\u001b[0m \u001b[0mioargs\u001b[0m\u001b[0;34m.\u001b[0m\u001b[0mmode\u001b[0m\u001b[0;34m:\u001b[0m\u001b[0;34m\u001b[0m\u001b[0;34m\u001b[0m\u001b[0m\n\u001b[1;32m    701\u001b[0m             \u001b[0;31m# Encoding\u001b[0m\u001b[0;34m\u001b[0m\u001b[0;34m\u001b[0m\u001b[0m\n\u001b[0;32m--> 702\u001b[0;31m             handle = open(\n\u001b[0m\u001b[1;32m    703\u001b[0m                 \u001b[0mhandle\u001b[0m\u001b[0;34m,\u001b[0m\u001b[0;34m\u001b[0m\u001b[0;34m\u001b[0m\u001b[0m\n\u001b[1;32m    704\u001b[0m                 \u001b[0mioargs\u001b[0m\u001b[0;34m.\u001b[0m\u001b[0mmode\u001b[0m\u001b[0;34m,\u001b[0m\u001b[0;34m\u001b[0m\u001b[0;34m\u001b[0m\u001b[0m\n",
      "\u001b[0;31mFileNotFoundError\u001b[0m: [Errno 2] No such file or directory: '/Users/joythompson/DSE_203_JoyT/DSE_203_Final_Project_JoyT/Raw_Data_Files/us-115th-congress-members-fixed.csv'"
     ]
    }
   ],
   "source": [
    "#cursor.execute(queryschema)\n",
    "repinfo=pd.read_csv(directoryraw+ 'us-115th-congress-members-fixed.csv')\n",
    "queryrep='CREATE TABLE dse203politics.StateReps (RepresentativeID SERIAL PRIMARY KEY NOT NULL, LastName varchar(255), \\\n",
    "    FirstName varchar(255), StateLabel varchar(255), StateCode int, District int, Chamber varchar(255), Party varchar(255))'\n",
    "cursor.execute(queryrep)\n",
    "countind=0\n",
    "for ind in repinfo.index:\n",
    "    first=repinfo.loc[ind, 'First Name'][1:].replace(\"'\", '').replace('.','')\n",
    "    if len(first.split(' ')[0])==1:\n",
    "        first=first.split(' ')[1]+' '+first.split(' ')[0]\n",
    "    queryinsert=\"INSERT INTO dse203politics.StateReps  VALUES (\"+str(countind)+\", \"+str(\"'\"+repinfo.loc[ind, 'Last Name'].replace(\"'\", '')+\"'\")+ \", \"+ \\\n",
    "        str(\"'\"+first+\"'\")+ \", \"+ str(\"'\"+repinfo.loc[ind, 'State Label']+\"'\")+ \", \"+str(repinfo.loc[ind, 'State Code'])+ \", \"+str(repinfo.loc[ind, 'District'])+ \", \" \\\n",
    "        +str(\"'\"+repinfo.loc[ind, 'Chamber']+\"'\") +\", \"+str(\"'\"+repinfo.loc[ind, 'Party']+\"'\")+ \")\" \n",
    "    cursor.execute(queryinsert)\n",
    "    countind=countind+1"
   ]
  },
  {
   "cell_type": "markdown",
   "id": "547c89f8",
   "metadata": {},
   "source": [
    "***COMMIITTEES***"
   ]
  },
  {
   "cell_type": "code",
   "execution_count": 28,
   "id": "07ea9d0e",
   "metadata": {},
   "outputs": [],
   "source": [
    "reppd=pd.read_csv(directorymidtransform +'/unique_legislator_committee_relationship_by_line.csv').drop(columns=[\"Unnamed: 0\"])\n",
    "commpd=reppd.groupby('Committee').sum().reset_index().reset_index()\n",
    "commpd=commpd.rename(columns={'index':'CommitteeID'}).drop(0).set_index('Committee')\n",
    "droplist=[]\n",
    "for ind in reppd.index:\n",
    "    if reppd.loc[ind, 'Committee']!='Abraham':\n",
    "        reppd.loc[ind, 'CommitteeID']=commpd.loc[reppd.loc[ind, 'Committee'], 'CommitteeID']\n",
    "    else:\n",
    "        droplist.append(ind)\n",
    "reppd=reppd.drop(droplist)"
   ]
  },
  {
   "cell_type": "code",
   "execution_count": null,
   "id": "a3ae3909",
   "metadata": {},
   "outputs": [],
   "source": [
    "querycomm='CREATE TABLE dse203finalproject.Committees (RepCommID SERIAL PRIMARY KEY NOT NULL, RepresentativeName varchar(255), \\\n",
    "    FirstName varchar(255), State varchar(255), CommitteeName varchar(255), CommitteeID varchar(255), CommitteeRole varchar(255))'\n",
    "#cursor.execute(querycomm)\n",
    "countind=0\n",
    "for ind in reppd.index:\n",
    "    queryinsert=\"INSERT INTO dse203finalproject.Committees  VALUES (\"+str(countind)+\", \"+str(\"'\"+reppd.loc[ind, 'Representative Name'].replace(\"'\", '')+\"'\")+ \\\n",
    "        \", \"+ str(\"'\"+reppd.loc[ind, 'Last Name'].replace(\"'\", '')+\"'\")+ \", \" +str(\"'\"+reppd.loc[ind, 'State']+\"'\")+ \", \"+ \\\n",
    "        str(\"'\"+reppd.loc[ind, 'Committee'].replace(\"'\", '')+\"'\")+\", \"+ str(\"'\"+reppd.loc[ind, 'CommiteeID'].replace(\"'\", '')+\"'\") +\", \"+ str(\"'\"+reppd.loc[ind, 'Role']+\"'\")+  \")\" \n",
    "    #cursor.execute(queryinsert)\n",
    "    countind=countind+1"
   ]
  },
  {
   "cell_type": "markdown",
   "id": "28b508f0",
   "metadata": {},
   "source": [
    "***COMMIITTEES Referencing REPRESENTATIVE ID***"
   ]
  },
  {
   "cell_type": "code",
   "execution_count": null,
   "id": "684da713",
   "metadata": {},
   "outputs": [],
   "source": [
    "querycomm2='CREATE TABLE dse203finalproject.CommitteesbyID(SeatID SERIAL PRIMARY KEY NOT NULL, RepresentativeID INT references \\\n",
    "    dse203finalproject.StateReps (RepresentativeID) NOT NULL, CommitteeName varchar(255), Chair varchar(255))'    \n",
    "#cursor.execute(querycomm2)\n",
    "querycomm2in='INSERT INTO dse203finalproject.CommitteesbyID (RepresentativeID, CommitteeName, Chair) \\\n",
    "Select StateReps.RepresentativeID as \"RepresentativeID\", Committees.CommitteeName as \"CommitteeName\", \\\n",
    "    Committees.CommitteeRole as \"CommitteeRole\" from dse203finalproject.Committees \\\n",
    "    left join dse203finalproject.StateReps on Committees.RepresentativeName = StateReps.LastName \\\n",
    "    where Committees.State is NULL and StateReps.RepresentativeID is NOT NULL \\\n",
    "    UNION \\\n",
    "    Select StateReps.RepresentativeID as \"RepresentativeID\", Committees.CommitteeName as \"CommitteeName\", \\\n",
    "    Committees.CommitteeRole as \"CommitteeRole\" from dse203finalproject.Committees \\\n",
    "    left join dse203finalproject.StateReps on Committees.RepresentativeName = StateReps.LastName \\\n",
    "    and Committees.State = StateReps.Statelabel where Committees.State is NOT NULL and \\\n",
    "    StateReps.RepresentativeID is NOT NULL'\n",
    "#cursor.execute(querycomm2in)"
   ]
  },
  {
   "cell_type": "markdown",
   "id": "06d1b435",
   "metadata": {},
   "source": [
    "***BILLS***"
   ]
  },
  {
   "cell_type": "code",
   "execution_count": null,
   "id": "8a3d5c9f",
   "metadata": {},
   "outputs": [],
   "source": [
    "queryxml='CREATE TABLE dse203finalproject.xmlbaseraw (BillID SERIAL PRIMARY KEY NOT NULL, Link varchar(255), OfficialTitle varchar(2500), \\\n",
    "            BillStage varchar(255), LegisType varchar(255))'\n",
    "#cursor.execute(queryxml)\n",
    "queryxmldate='CREATE TABLE dse203finalproject.xmlbaserawdate (BillID INT references \\\n",
    "    dse203finalproject.xmlbaseraw(BillID) NOT NULL, Date varchar(255))'\n",
    "#cursor.execute(queryxmldate)\n",
    "queryxmlcomm='CREATE TABLE dse203finalproject.xmlbaserawcommittee (BillID INT references \\\n",
    "    dse203finalproject.xmlbaseraw(BillID) NOT NULL, CommitteeName varchar(255))'\n",
    "#cursor.execute(queryxmlcomm)\n",
    "queryxmlspon='CREATE TABLE dse203finalproject.xmlbaserawsponsor (BillID INT references \\\n",
    "    dse203finalproject.xmlbaseraw(BillID) NOT NULL, FirstName varchar(255), LastName varchar(255), State varchar(255))'\n",
    "#cursor.execute(queryxmlspon)\n",
    "queryxmlcospon='CREATE TABLE dse203finalproject.xmlbaserawcosponsor (BillID INT references \\\n",
    "    dse203finalproject.xmlbaseraw(BillID) NOT NULL, FirstName varchar(255), LastName varchar(255), State varchar(255))'\n",
    "#cursor.execute(queryxmlcospon)\n",
    "countind=0\n",
    "for ind in xmlnames.index:\n",
    "    link= str(\"'\"+xmlnames.loc[ind, 'Link'].replace(\"'\", '')+\"'\")\n",
    "    title=str(\"'\"+xmlnames.loc[ind, 'OfficialTitle'].replace(\"'\", '')+\"'\")\n",
    "    stage=str(\"'\"+xmlnames.loc[ind, 'BillStage']+\"'\")\n",
    "    legis=str(\"'\"+xmlnames.loc[ind, 'LegisType']+\"'\")\n",
    "    queryxinsert=\"INSERT INTO dse203finalproject.xmlbaseraw   VALUES (\"+str(countind)+\", \"+link+ \\\n",
    "        \", \"+title + \", \" +stage+ \", \" +legis+\")\" \n",
    "    #cursor.execute(queryxinsert)\n",
    "    if '[' not in str(xmlnames.loc[ind, 'Date']) and str(xmlnames.loc[ind, 'Date'])!='':\n",
    "        date=str(\"'\"+xmlnames.loc[ind, 'Date'].replace(\"'\", '')+\"'\")\n",
    "        queryxinsertd=\"INSERT INTO dse203finalproject.xmlbaserawdate   VALUES (\"+str(countind)+\", \"+date+\")\"\n",
    "        #cursor.execute(queryxinsertd)\n",
    "    elif str(xmlnames.loc[ind, 'Date'])!='':\n",
    "        dates=xmlnames.loc[ind, 'Date']\n",
    "        for dateind in dates:\n",
    "            date=str(\"'\"+dateind.replace(\"'\", '')+\"'\")\n",
    "            queryxinsertd=\"INSERT INTO dse203finalproject.xmlbaserawdate  VALUES (\"+str(countind)+\", \"+date+\")\"\n",
    "            #cursor.execute(queryxinsertd)\n",
    "    if '[' not in str(xmlnames.loc[ind, 'CommitteeName']) and str(xmlnames.loc[ind, 'CommitteeName'])!='':\n",
    "        comm=str(\"'\"+xmlnames.loc[ind, 'CommitteeName'].replace(\"'\", '')+\"'\")\n",
    "        queryxinsertc=\"INSERT INTO dse203finalproject.xmlbaserawcommittee   VALUES (\"+str(countind)+\", \"+comm+\")\"\n",
    "        #cursor.execute(queryxinsertc)\n",
    "    elif str(xmlnames.loc[ind, 'CommitteeName'])!='':\n",
    "        comms=xmlnames.loc[ind, 'CommitteeName']\n",
    "        for commind in comms:\n",
    "            comm=str(\"'\"+commind.replace(\"'\", '')+\"'\")\n",
    "            queryxinsertc=\"INSERT INTO dse203finalproject.xmlbaserawcommittee  VALUES (\"+str(countind)+\", \"+comm+\")\"\n",
    "            #cursor.execute(queryxinsertc)\n",
    "    if '[' not in str(xmlnames.loc[ind, 'SponsorLastName']) and str(xmlnames.loc[ind, 'SponsorLastName'])!='':\n",
    "        queryxinsertssp=\"INSERT INTO dse203finalproject.xmlbaserawsponsor  VALUES (\"+str(countind)+\", \"+str(\"'\"+xmlnames.loc[ind, 'SponsorFirstName'].replace(\"'\", '')+\"'\") \\\n",
    "        + \", \"+str(\"'\"+xmlnames.loc[ind, 'SponsorLastName'].replace(\"'\", '')+\"'\")+ \", \"+str(\"'\"+xmlnames.loc[ind, 'SponsorState']+\"'\")+\")\" \n",
    "        #cursor.execute(queryxinsertssp)\n",
    "    elif str(xmlnames.loc[ind, 'SponsorLastName'])!='':\n",
    "        lasts=xmlnames.loc[ind, 'SponsorLastName']\n",
    "        countnames=0\n",
    "        for lastind in lasts:\n",
    "            last=str(\"'\"+lastind.replace(\"'\", '')+\"'\")\n",
    "            first=str(\"'\"+xmlnames.loc[ind, 'SponsorFirstName'][countnames].replace(\"'\", '')+\"'\")\n",
    "            state=str(\"'\"+xmlnames.loc[ind, 'SponsorState'][countnames]+\"'\")\n",
    "            queryxinsertssp=\"INSERT INTO dse203finalproject.xmlbaserawsponsor  VALUES (\"+str(countind)+\", \"+first+\", \"+last+ \", \"+state+\")\"\n",
    "            #cursor.execute(queryxinsertssp)\n",
    "            countnames=countnames+1\n",
    "    if '[' not in str(xmlnames.loc[ind, 'CoSponsorLastName']) and str(xmlnames.loc[ind, 'CoSponsorLastName'])!='':\n",
    "        queryxinsertsco=\"INSERT INTO dse203finalproject.xmlbaserawcosponsor  VALUES (\"+str(countind)+\", \"+str(\"'\"+xmlnames.loc[ind, 'CoSponsorFirstName'].replace(\"'\", '')+\"'\")+ \\\n",
    "        \", \"+str(\"'\"+xmlnames.loc[ind, 'CoSponsorLastName'].replace(\"'\", '')+\"'\")+ \", \"+str(\"'\"+xmlnames.loc[ind, 'CoSponsorState']+\"'\")+\")\" \n",
    "        #cursor.execute(queryxinsertsco)\n",
    "    elif str(xmlnames.loc[ind, 'CoSponsorLastName'])!='':\n",
    "        lasts=xmlnames.loc[ind, 'CoSponsorLastName']\n",
    "        countnames=0\n",
    "        for lastind in lasts:\n",
    "            last=str(\"'\"+lastind.replace(\"'\", '')+\"'\")\n",
    "            first=str(\"'\"+xmlnames.loc[ind, 'CoSponsorFirstName'][countnames].replace(\"'\", '')+\"'\")\n",
    "            state=str(\"'\"+xmlnames.loc[ind, 'CoSponsorState'][countnames]+\"'\")\n",
    "            queryxinsertsco=\"INSERT INTO dse203finalproject.xmlbaserawcosponsor  VALUES (\"+str(countind)+\", \"+first+\", \"+last+ \", \"+state+\")\"\n",
    "            #cursor.execute(queryxinsertsco)\n",
    "            countnames=countnames+1\n",
    "        \n",
    "    countind=countind+1"
   ]
  },
  {
   "cell_type": "markdown",
   "id": "d77c09fa",
   "metadata": {},
   "source": [
    "***BILLS Referencing REPRESENTATIVE ID***"
   ]
  },
  {
   "cell_type": "code",
   "execution_count": null,
   "id": "a03c9a5e",
   "metadata": {},
   "outputs": [],
   "source": [
    "queryspon2='CREATE TABLE dse203finalproject.SponsorsbyID(BillID INT references \\\n",
    "    dse203finalproject.xmlbaseraw(BillID) NOT NULL, RepresentativeID INT references \\\n",
    "    dse203finalproject.StateReps (RepresentativeID) NOT NULL)'    \n",
    "#cursor.execute(queryspon2)\n",
    "querysponin2='INSERT INTO dse203finalproject.SponsorsbyID (BillID, RepresentativeID) \\\n",
    "Select xmlbaserawsponsor.BillID as \"BillID\", StateReps.RepresentativeID as \"RepresentativeID\" from dse203finalproject.xmlbaserawsponsor \\\n",
    "    left join dse203finalproject.StateReps on xmlbaserawsponsor.LastName = StateReps.LastName \\\n",
    "    where xmlbaserawsponsor.State is NULL and StateReps.RepresentativeID is NOT NULL \\\n",
    "    UNION \\\n",
    "    Select xmlbaserawsponsor.BillID as \"BillID\", StateReps.RepresentativeID as \"RepresentativeID\" from dse203finalproject.xmlbaserawsponsor \\\n",
    "    left join dse203finalproject.StateReps on xmlbaserawsponsor.LastName = StateReps.LastName \\\n",
    "    and xmlbaserawsponsor.State = StateReps.Statelabel where xmlbaserawsponsor.State is NOT NULL and \\\n",
    "    StateReps.RepresentativeID is NOT NULL'\n",
    "#cursor.execute(querysponin2)\n",
    "querycspon2='CREATE TABLE dse203finalproject.CosponsorsbyID(BillID INT references \\\n",
    "    dse203finalproject.xmlbaseraw(BillID) NOT NULL, RepresentativeID INT references \\\n",
    "    dse203finalproject.StateReps (RepresentativeID) NOT NULL)'    \n",
    "#cursor.execute(querycspon2)\n",
    "querycsponin2='INSERT INTO dse203finalproject.CosponsorsbyID (BillID, RepresentativeID) \\\n",
    "Select xmlbaserawcosponsor.BillID as \"BillID\", StateReps.RepresentativeID as \"RepresentativeID\" from dse203finalproject.xmlbaserawcosponsor \\\n",
    "    left join dse203finalproject.StateReps on xmlbaserawcosponsor.LastName = StateReps.LastName \\\n",
    "    where xmlbaserawcosponsor.State is NULL and StateReps.RepresentativeID is NOT NULL \\\n",
    "    UNION \\\n",
    "    Select xmlbaserawcosponsor.BillID as \"BillID\", StateReps.RepresentativeID as \"RepresentativeID\" from dse203finalproject.xmlbaserawcosponsor \\\n",
    "    left join dse203finalproject.StateReps on xmlbaserawcosponsor.LastName = StateReps.LastName \\\n",
    "    and xmlbaserawcosponsor.State = StateReps.Statelabel where xmlbaserawcosponsor.State is NOT NULL and \\\n",
    "    StateReps.RepresentativeID is NOT NULL'\n",
    "#cursor.execute(querycsponin2)"
   ]
  },
  {
   "cell_type": "raw",
   "id": "0ef3f5be",
   "metadata": {},
   "source": [
    "querydel='DROP TABLE dse203finalproject.xmlbaserawheadertext'\n",
    "#cursor.execute(querydel)"
   ]
  },
  {
   "cell_type": "raw",
   "id": "b268444a",
   "metadata": {},
   "source": [
    "queryxmlheader='CREATE TABLE dse203finalproject.xmlbaserawheader (BillID INT references \\\n",
    "    dse203finalproject.xmlbaseraw(BillID) NOT NULL, Header varchar(1255), Type varchar(255), \\\n",
    "            Text varchar(5000))'\n",
    "#cursor.execute(queryxmlheader)\n",
    "for info in headerpd.index:\n",
    "    billid=str(headerpd.loc[info, 'BillID'])\n",
    "    if str(headerpd.loc[info, 'Header'])=='None':\n",
    "        header=\"'\"+''+\"'\"\n",
    "    elif str(headerpd.loc[info, 'Header']).find(\"'\")!=-1:\n",
    "        header=str(\"'\"+headerpd.loc[info, 'Header'].replace(\"'\", '')+\"'\")\n",
    "    else:\n",
    "        header=str(\"'\"+headerpd.loc[info, 'Header']+\"'\")\n",
    "    key=str(\"'\"+headerpd.loc[info, 'Key'].replace(\"'\", '')+\"'\")\n",
    "    if str(headerpd.loc[info, 'Text'])=='None':\n",
    "        text=\"'\"+''+\"'\"\n",
    "    elif str(headerpd.loc[info, 'Text']).find(\"'\")!=-1:\n",
    "        text=str(\"'\"+headerpd.loc[info, 'Text'].replace(\"'\", '')+\"'\")\n",
    "    else:\n",
    "        text=str(\"'\"+headerpd.loc[info, 'Text']+\"'\")\n",
    "    queryhinsert=\"INSERT INTO dse203finalproject.xmlbaserawheader   VALUES (\"+billid+\", \"+header+ \\\n",
    "        \", \"+key + \", \" +text+ \")\"\n",
    "    #cursor.execute(queryhinsert)"
   ]
  },
  {
   "cell_type": "raw",
   "id": "5a570d42",
   "metadata": {},
   "source": [
    "queryxmlheadert='CREATE TABLE dse203finalproject.xmlbaserawheadertext (BillID INT references \\\n",
    "    dse203finalproject.xmlbaseraw(BillID) NOT NULL, Header varchar(1255), Text varchar(105000))'\n",
    "#cursor.execute(queryxmlheadert)\n",
    "for info in headercpd.index:\n",
    "    billid=str(headercpd.loc[info, 'BillID'])\n",
    "    \n",
    "    if str(headercpd.loc[info, 'Header'])=='None':\n",
    "        header=\"'\"+''+\"'\"\n",
    "    elif str(headercpd.loc[info, 'Header']).find(\"'\")!=-1:\n",
    "        header=str(\"'\"+headercpd.loc[info, 'Header'].replace(\"'\", '')+\"'\")\n",
    "    else:\n",
    "        header=str(\"'\"+headercpd.loc[info, 'Header']+\"'\")\n",
    "    if str(headercpd.loc[info, 'Text'])=='None':\n",
    "        text=\"'\"+''+\"'\"\n",
    "    elif str(headercpd.loc[info, 'Text']).find(\"'\")!=-1:\n",
    "        text=str(\"'\"+headercpd.loc[info, 'Text'].replace(\"'\", '')+\"'\")\n",
    "    else:\n",
    "        text=str(\"'\"+headercpd.loc[info, 'Text']+\"'\")\n",
    "    queryhtinsert=\"INSERT INTO dse203finalproject.xmlbaserawheadertext   VALUES (\"+billid+\", \"+header+ \", \" +text+ \")\"\n",
    "  #  cursor.execute(queryhtinsert)"
   ]
  },
  {
   "cell_type": "raw",
   "id": "084f8d5e",
   "metadata": {},
   "source": [
    "with open('CHRG-115shrg26915-prac.text') as f:\n",
    "    lines = f.readlines()\n",
    "    title=lines[1].split('title> - ')[1].split('<')[0]\n",
    "    legistype=lines[2].split('[')[1].split(']')[0]\n",
    "    commlist=[]\n",
    "    for line in lines:\n",
    "        if line.find('COMMITTEE ON')!=-1:\n",
    "            comm=line.split('  ')[-1].replace('\\n','')\n",
    "            if comm not in commlist:\n",
    "                commlist.append(comm)\n",
    "  "
   ]
  }
 ],
 "metadata": {
  "kernelspec": {
   "display_name": "Python 3 (ipykernel)",
   "language": "python",
   "name": "python3"
  },
  "language_info": {
   "codemirror_mode": {
    "name": "ipython",
    "version": 3
   },
   "file_extension": ".py",
   "mimetype": "text/x-python",
   "name": "python",
   "nbconvert_exporter": "python",
   "pygments_lexer": "ipython3",
   "version": "3.9.9"
  }
 },
 "nbformat": 4,
 "nbformat_minor": 5
}
